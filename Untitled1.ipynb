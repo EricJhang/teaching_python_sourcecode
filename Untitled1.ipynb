{
 "cells": [
  {
   "cell_type": "code",
   "execution_count": 1,
   "metadata": {
    "collapsed": false
   },
   "outputs": [
    {
     "ename": "SyntaxError",
     "evalue": "Missing parentheses in call to 'print' (<ipython-input-1-629fb96148b4>, line 1)",
     "output_type": "error",
     "traceback": [
      "\u001b[1;36m  File \u001b[1;32m\"<ipython-input-1-629fb96148b4>\"\u001b[1;36m, line \u001b[1;32m1\u001b[0m\n\u001b[1;33m    print 'hellp world'\u001b[0m\n\u001b[1;37m                      ^\u001b[0m\n\u001b[1;31mSyntaxError\u001b[0m\u001b[1;31m:\u001b[0m Missing parentheses in call to 'print'\n"
     ]
    }
   ],
   "source": [
    "print 'hellp world'"
   ]
  },
  {
   "cell_type": "code",
   "execution_count": 2,
   "metadata": {
    "collapsed": false
   },
   "outputs": [
    {
     "name": "stdout",
     "output_type": "stream",
     "text": [
      "hello world\n"
     ]
    }
   ],
   "source": [
    "print('hello world')"
   ]
  },
  {
   "cell_type": "code",
   "execution_count": 6,
   "metadata": {
    "collapsed": false
   },
   "outputs": [
    {
     "name": "stdout",
     "output_type": "stream",
     "text": [
      "10\n",
      "10hello world\n"
     ]
    }
   ],
   "source": [
    "first_variable = 10\n",
    "print(first_variable)\n",
    "second_variable = \"hello world\"\n",
    "print(str(first_variable)+second_variable)"
   ]
  },
  {
   "cell_type": "code",
   "execution_count": 7,
   "metadata": {
    "collapsed": false
   },
   "outputs": [
    {
     "data": {
      "text/plain": [
       "1.5"
      ]
     },
     "execution_count": 7,
     "metadata": {},
     "output_type": "execute_result"
    }
   ],
   "source": [
    "a = 1\n",
    "b = 0.5\n",
    "a+b\n",
    "print(a+b)"
   ]
  },
  {
   "cell_type": "code",
   "execution_count": 9,
   "metadata": {
    "collapsed": false
   },
   "outputs": [
    {
     "ename": "TypeError",
     "evalue": "Can't convert 'int' object to str implicitly",
     "output_type": "error",
     "traceback": [
      "\u001b[1;31m---------------------------------------------------------------------------\u001b[0m",
      "\u001b[1;31mTypeError\u001b[0m                                 Traceback (most recent call last)",
      "\u001b[1;32m<ipython-input-9-ba1096898b1d>\u001b[0m in \u001b[0;36m<module>\u001b[1;34m()\u001b[0m\n\u001b[0;32m      2\u001b[0m \u001b[0mb\u001b[0m \u001b[1;33m=\u001b[0m \u001b[1;36m0.5\u001b[0m\u001b[1;33m\u001b[0m\u001b[0m\n\u001b[0;32m      3\u001b[0m \u001b[0msecond_variable\u001b[0m \u001b[1;33m=\u001b[0m \u001b[1;34m\"hello world\"\u001b[0m\u001b[1;33m\u001b[0m\u001b[0m\n\u001b[1;32m----> 4\u001b[1;33m \u001b[0msecond_variable\u001b[0m\u001b[1;33m+\u001b[0m\u001b[0ma\u001b[0m\u001b[1;33m\u001b[0m\u001b[0m\n\u001b[0m",
      "\u001b[1;31mTypeError\u001b[0m: Can't convert 'int' object to str implicitly"
     ]
    }
   ],
   "source": [
    "a = 1\n",
    "b = 0.5\n",
    "second_variable = \"hello world\"\n"
   ]
  },
  {
   "cell_type": "code",
   "execution_count": 10,
   "metadata": {
    "collapsed": false
   },
   "outputs": [
    {
     "data": {
      "text/plain": [
       "2.0"
      ]
     },
     "execution_count": 10,
     "metadata": {},
     "output_type": "execute_result"
    }
   ],
   "source": [
    "a = 1\n",
    "b = 0.5\n",
    "a/b"
   ]
  },
  {
   "cell_type": "code",
   "execution_count": 11,
   "metadata": {
    "collapsed": false
   },
   "outputs": [
    {
     "data": {
      "text/plain": [
       "1.5"
      ]
     },
     "execution_count": 11,
     "metadata": {},
     "output_type": "execute_result"
    }
   ],
   "source": [
    "a = 3\n",
    "b = 2\n",
    "a/b"
   ]
  },
  {
   "cell_type": "code",
   "execution_count": 12,
   "metadata": {
    "collapsed": false
   },
   "outputs": [
    {
     "data": {
      "text/plain": [
       "1"
      ]
     },
     "execution_count": 12,
     "metadata": {},
     "output_type": "execute_result"
    }
   ],
   "source": [
    "a = 3\n",
    "b = 2\n",
    "a%b"
   ]
  },
  {
   "cell_type": "code",
   "execution_count": 13,
   "metadata": {
    "collapsed": false
   },
   "outputs": [
    {
     "ename": "NameError",
     "evalue": "name 'variable_a' is not defined",
     "output_type": "error",
     "traceback": [
      "\u001b[1;31m---------------------------------------------------------------------------\u001b[0m",
      "\u001b[1;31mNameError\u001b[0m                                 Traceback (most recent call last)",
      "\u001b[1;32m<ipython-input-13-9b27c4959368>\u001b[0m in \u001b[0;36m<module>\u001b[1;34m()\u001b[0m\n\u001b[1;32m----> 1\u001b[1;33m \u001b[1;32mif\u001b[0m\u001b[1;33m(\u001b[0m\u001b[0mvariable_a\u001b[0m \u001b[1;33m>\u001b[0m \u001b[0mvariable_b\u001b[0m\u001b[1;33m)\u001b[0m\u001b[1;33m:\u001b[0m\u001b[1;33m\u001b[0m\u001b[0m\n\u001b[0m\u001b[0;32m      2\u001b[0m     \u001b[0mprint\u001b[0m\u001b[1;33m(\u001b[0m\u001b[1;34m\"a 大於 b\"\u001b[0m\u001b[1;33m)\u001b[0m\u001b[1;33m\u001b[0m\u001b[0m\n\u001b[0;32m      3\u001b[0m \u001b[1;32melse\u001b[0m\u001b[1;33m:\u001b[0m\u001b[1;33m\u001b[0m\u001b[0m\n\u001b[0;32m      4\u001b[0m     \u001b[0mprint\u001b[0m\u001b[1;33m(\u001b[0m\u001b[1;34m\"a 小於 b\"\u001b[0m\u001b[1;33m)\u001b[0m\u001b[1;33m\u001b[0m\u001b[0m\n",
      "\u001b[1;31mNameError\u001b[0m: name 'variable_a' is not defined"
     ]
    }
   ],
   "source": [
    "if(variable_a > variable_b):\n",
    "    print(\"a 大於 b\")\n",
    "else:\n",
    "    print(\"a 小於 b\")   "
   ]
  },
  {
   "cell_type": "code",
   "execution_count": 14,
   "metadata": {
    "collapsed": false
   },
   "outputs": [
    {
     "name": "stdout",
     "output_type": "stream",
     "text": [
      "a 大於 b\n"
     ]
    }
   ],
   "source": [
    "variable_a = 3\n",
    "variable_b = 2\n",
    "if(variable_a > variable_b):\n",
    "    print(\"a 大於 b\")\n",
    "else:\n",
    "    print(\"a 小於 b\")   "
   ]
  },
  {
   "cell_type": "code",
   "execution_count": 15,
   "metadata": {
    "collapsed": false
   },
   "outputs": [
    {
     "name": "stdout",
     "output_type": "stream",
     "text": [
      "a 小於 b\n"
     ]
    }
   ],
   "source": [
    "variable_a = 3\n",
    "variable_b = 4\n",
    "if(variable_a > variable_b):\n",
    "    print(\"a 大於 b\")\n",
    "else:\n",
    "    print(\"a 小於 b\")   "
   ]
  },
  {
   "cell_type": "code",
   "execution_count": 17,
   "metadata": {
    "collapsed": false
   },
   "outputs": [
    {
     "name": "stdout",
     "output_type": "stream",
     "text": [
      "2 是偶數\n"
     ]
    }
   ],
   "source": [
    "variable_x = 2\n",
    "if((variable_x % 2) ==0 ):\n",
    "    print(\"%d 是偶數\" % variable_x)"
   ]
  },
  {
   "cell_type": "code",
   "execution_count": 18,
   "metadata": {
    "collapsed": false
   },
   "outputs": [
    {
     "name": "stdout",
     "output_type": "stream",
     "text": [
      "variable_x 是1, variable_x = 1\n"
     ]
    }
   ],
   "source": [
    "variable_x = 1\n",
    "if((variable_x % 2) ==0 ):\n",
    "    print(\"%d 是偶數\" % variable_x)\n",
    "elif((variable_x % 3) ==0 ): \n",
    "    print(\"%d 是奇數\" % variable_x)\n",
    "else:\n",
    "    print(\"variable_x 是1, variable_x = %d\" % variable_x)  "
   ]
  },
  {
   "cell_type": "code",
   "execution_count": 19,
   "metadata": {
    "collapsed": false
   },
   "outputs": [
    {
     "name": "stdout",
     "output_type": "stream",
     "text": [
      "variable_x 是 1\n"
     ]
    }
   ],
   "source": [
    "variable_x = 1.5\n",
    "if((variable_x % 2) ==0 ):\n",
    "    print(\"%d 是偶數\" % variable_x)\n",
    "elif((variable_x % 3) ==0 ): \n",
    "    print(\"%d 是奇數\" % variable_x)\n",
    "else:\n",
    "    print(\"variable_x 是 1\" ) "
   ]
  },
  {
   "cell_type": "code",
   "execution_count": 20,
   "metadata": {
    "collapsed": false
   },
   "outputs": [
    {
     "name": "stdout",
     "output_type": "stream",
     "text": [
      "1\n",
      "variable_x 是 1\n"
     ]
    }
   ],
   "source": [
    "variable_x = 1.5\n",
    "print(int(variable_x))\n",
    "if((variable_x % 2) ==0 ):\n",
    "    print(\"%d 是偶數\" % variable_x)\n",
    "elif((variable_x % 3) ==0 ): \n",
    "    print(\"%d 是奇數\" % variable_x)\n",
    "else:\n",
    "    print(\"variable_x 是 1\" ) "
   ]
  },
  {
   "cell_type": "code",
   "execution_count": 22,
   "metadata": {
    "collapsed": false
   },
   "outputs": [
    {
     "name": "stdout",
     "output_type": "stream",
     "text": [
      "請輸入正整數:5\n",
      "variable_x 是 1\n"
     ]
    }
   ],
   "source": [
    "variable_x = int(input(\"請輸入正整數:\"))\n",
    "if((variable_x % 2) ==0 ):\n",
    "    print(\"%d 是偶數\" % variable_x)\n",
    "elif((variable_x % 3) ==0 ): \n",
    "    print(\"%d 是奇數\" % variable_x)\n",
    "else:\n",
    "    print(\"variable_x 是 1\" ) "
   ]
  },
  {
   "cell_type": "code",
   "execution_count": 23,
   "metadata": {
    "collapsed": false
   },
   "outputs": [
    {
     "name": "stdout",
     "output_type": "stream",
     "text": [
      "請輸入正整數:5\n",
      "5 是奇數\n"
     ]
    }
   ],
   "source": [
    "variable_x = int(input(\"請輸入正整數:\"))\n",
    "if(variable_x <= 0):\n",
    "    print(\"請重新輸入\")\n",
    "elif((variable_x % 2) ==0 ):\n",
    "    print(\"%d 是偶數\" % variable_x)\n",
    "else:\n",
    "    print(\"%d 是奇數\" % variable_x) "
   ]
  },
  {
   "cell_type": "code",
   "execution_count": 24,
   "metadata": {
    "collapsed": false
   },
   "outputs": [
    {
     "name": "stdout",
     "output_type": "stream",
     "text": [
      "請輸入正整數:-3\n",
      "請重新輸入\n"
     ]
    }
   ],
   "source": [
    "variable_x = int(input(\"請輸入正整數:\"))\n",
    "if(variable_x <= 0):\n",
    "    print(\"請重新輸入\")\n",
    "elif((variable_x % 2) ==0 ):\n",
    "    print(\"%d 是偶數\" % variable_x)\n",
    "else:\n",
    "    print(\"%d 是奇數\" % variable_x) "
   ]
  },
  {
   "cell_type": "code",
   "execution_count": 25,
   "metadata": {
    "collapsed": false
   },
   "outputs": [
    {
     "name": "stdout",
     "output_type": "stream",
     "text": [
      "請輸入正整數:0.5\n",
      "請重新輸入\n"
     ]
    }
   ],
   "source": [
    "variable_x = float(input(\"請輸入正整數:\"))\n",
    "if((int(variable_x) == variable_x) and (variable_x > 0)):\n",
    "    if ((variable_x % 2) ==0):\n",
    "        print(\"%d 是偶數\" % variable_x)\n",
    "    else:\n",
    "        print(\"%d 是奇數\" % variable_x)\n",
    "else:\n",
    "    print(\"請重新輸入\" ) "
   ]
  },
  {
   "cell_type": "code",
   "execution_count": 26,
   "metadata": {
    "collapsed": false
   },
   "outputs": [
    {
     "name": "stdout",
     "output_type": "stream",
     "text": [
      "請輸入正整數:1.5\n"
     ]
    },
    {
     "ename": "ValueError",
     "evalue": "invalid literal for int() with base 10: '1.5'",
     "output_type": "error",
     "traceback": [
      "\u001b[1;31m---------------------------------------------------------------------------\u001b[0m",
      "\u001b[1;31mValueError\u001b[0m                                Traceback (most recent call last)",
      "\u001b[1;32m<ipython-input-26-9400d385287d>\u001b[0m in \u001b[0;36m<module>\u001b[1;34m()\u001b[0m\n\u001b[1;32m----> 1\u001b[1;33m \u001b[0mvariable_x\u001b[0m \u001b[1;33m=\u001b[0m \u001b[0mint\u001b[0m\u001b[1;33m(\u001b[0m\u001b[0minput\u001b[0m\u001b[1;33m(\u001b[0m\u001b[1;34m\"請輸入正整數:\"\u001b[0m\u001b[1;33m)\u001b[0m\u001b[1;33m)\u001b[0m\u001b[1;33m\u001b[0m\u001b[0m\n\u001b[0m\u001b[0;32m      2\u001b[0m \u001b[1;32mif\u001b[0m\u001b[1;33m(\u001b[0m\u001b[0mvariable_x\u001b[0m \u001b[1;33m<=\u001b[0m \u001b[1;36m0\u001b[0m\u001b[1;33m)\u001b[0m\u001b[1;33m:\u001b[0m\u001b[1;33m\u001b[0m\u001b[0m\n\u001b[0;32m      3\u001b[0m     \u001b[0mprint\u001b[0m\u001b[1;33m(\u001b[0m\u001b[1;34m\"請重新輸入\"\u001b[0m\u001b[1;33m)\u001b[0m\u001b[1;33m\u001b[0m\u001b[0m\n\u001b[0;32m      4\u001b[0m \u001b[1;32melif\u001b[0m\u001b[1;33m(\u001b[0m\u001b[1;33m(\u001b[0m\u001b[0mvariable_x\u001b[0m \u001b[1;33m%\u001b[0m \u001b[1;36m2\u001b[0m\u001b[1;33m)\u001b[0m \u001b[1;33m==\u001b[0m\u001b[1;36m0\u001b[0m \u001b[1;33m)\u001b[0m\u001b[1;33m:\u001b[0m\u001b[1;33m\u001b[0m\u001b[0m\n\u001b[0;32m      5\u001b[0m     \u001b[0mprint\u001b[0m\u001b[1;33m(\u001b[0m\u001b[1;34m\"%d 是偶數\"\u001b[0m \u001b[1;33m%\u001b[0m \u001b[0mvariable_x\u001b[0m\u001b[1;33m)\u001b[0m\u001b[1;33m\u001b[0m\u001b[0m\n",
      "\u001b[1;31mValueError\u001b[0m: invalid literal for int() with base 10: '1.5'"
     ]
    }
   ],
   "source": [
    "variable_x = int(input(\"請輸入正整數:\"))\n",
    "if(variable_x <= 0):\n",
    "    print(\"請重新輸入\")\n",
    "elif((variable_x % 2) ==0 ):\n",
    "    print(\"%d 是偶數\" % variable_x)\n",
    "else:\n",
    "    print(\"%d 是奇數\" % variable_x) "
   ]
  },
  {
   "cell_type": "code",
   "execution_count": 27,
   "metadata": {
    "collapsed": false
   },
   "outputs": [
    {
     "name": "stdout",
     "output_type": "stream",
     "text": [
      "請輸入正整數:-9.3\n"
     ]
    },
    {
     "ename": "ValueError",
     "evalue": "invalid literal for int() with base 10: '-9.3'",
     "output_type": "error",
     "traceback": [
      "\u001b[1;31m---------------------------------------------------------------------------\u001b[0m",
      "\u001b[1;31mValueError\u001b[0m                                Traceback (most recent call last)",
      "\u001b[1;32m<ipython-input-27-9400d385287d>\u001b[0m in \u001b[0;36m<module>\u001b[1;34m()\u001b[0m\n\u001b[1;32m----> 1\u001b[1;33m \u001b[0mvariable_x\u001b[0m \u001b[1;33m=\u001b[0m \u001b[0mint\u001b[0m\u001b[1;33m(\u001b[0m\u001b[0minput\u001b[0m\u001b[1;33m(\u001b[0m\u001b[1;34m\"請輸入正整數:\"\u001b[0m\u001b[1;33m)\u001b[0m\u001b[1;33m)\u001b[0m\u001b[1;33m\u001b[0m\u001b[0m\n\u001b[0m\u001b[0;32m      2\u001b[0m \u001b[1;32mif\u001b[0m\u001b[1;33m(\u001b[0m\u001b[0mvariable_x\u001b[0m \u001b[1;33m<=\u001b[0m \u001b[1;36m0\u001b[0m\u001b[1;33m)\u001b[0m\u001b[1;33m:\u001b[0m\u001b[1;33m\u001b[0m\u001b[0m\n\u001b[0;32m      3\u001b[0m     \u001b[0mprint\u001b[0m\u001b[1;33m(\u001b[0m\u001b[1;34m\"請重新輸入\"\u001b[0m\u001b[1;33m)\u001b[0m\u001b[1;33m\u001b[0m\u001b[0m\n\u001b[0;32m      4\u001b[0m \u001b[1;32melif\u001b[0m\u001b[1;33m(\u001b[0m\u001b[1;33m(\u001b[0m\u001b[0mvariable_x\u001b[0m \u001b[1;33m%\u001b[0m \u001b[1;36m2\u001b[0m\u001b[1;33m)\u001b[0m \u001b[1;33m==\u001b[0m\u001b[1;36m0\u001b[0m \u001b[1;33m)\u001b[0m\u001b[1;33m:\u001b[0m\u001b[1;33m\u001b[0m\u001b[0m\n\u001b[0;32m      5\u001b[0m     \u001b[0mprint\u001b[0m\u001b[1;33m(\u001b[0m\u001b[1;34m\"%d 是偶數\"\u001b[0m \u001b[1;33m%\u001b[0m \u001b[0mvariable_x\u001b[0m\u001b[1;33m)\u001b[0m\u001b[1;33m\u001b[0m\u001b[0m\n",
      "\u001b[1;31mValueError\u001b[0m: invalid literal for int() with base 10: '-9.3'"
     ]
    }
   ],
   "source": [
    "variable_x = int(input(\"請輸入正整數:\"))\n",
    "if(variable_x <= 0):\n",
    "    print(\"請重新輸入\")\n",
    "elif((variable_x % 2) ==0 ):\n",
    "    print(\"%d 是偶數\" % variable_x)\n",
    "else:\n",
    "    print(\"%d 是奇數\" % variable_x) "
   ]
  },
  {
   "cell_type": "code",
   "execution_count": 28,
   "metadata": {
    "collapsed": false
   },
   "outputs": [
    {
     "name": "stdout",
     "output_type": "stream",
     "text": [
      "1\n"
     ]
    }
   ],
   "source": [
    "list_1 = [1,2,3,4]\n",
    "print(list_1[0])"
   ]
  },
  {
   "cell_type": "code",
   "execution_count": 29,
   "metadata": {
    "collapsed": false
   },
   "outputs": [
    {
     "name": "stdout",
     "output_type": "stream",
     "text": [
      "1\n",
      "hello\n",
      "hello Eric 今天天氣如何\n"
     ]
    }
   ],
   "source": [
    "list_1 = [1,2,3,4]\n",
    "print(list_1[0])\n",
    "#輸出結果為 1\n",
    "list_2 = [\"hello\",\"Eric\",\"今天天氣如何\"]\n",
    "print(list_2[0])\n",
    "#輸出結果為 hello\n",
    "list_2 = [\"hello\",\"Eric\",\"今天天氣如何\"]\n",
    "print(list_2[0]+\" \"+list_2[1]+\" \"+list_2[2])\n",
    "#輸出結果為 hello Eric 今天天氣如何"
   ]
  },
  {
   "cell_type": "code",
   "execution_count": 30,
   "metadata": {
    "collapsed": false
   },
   "outputs": [
    {
     "name": "stdout",
     "output_type": "stream",
     "text": [
      "hello Eric 今天天氣如何\n",
      "['hello', 'Eric', '今天天氣如何']\n"
     ]
    }
   ],
   "source": [
    "list_2 = [\"hello\",\"Eric\",\"今天天氣如何\"]\n",
    "print(list_2[0]+\" \"+list_2[1]+\" \"+list_2[2])\n",
    "print(list_2)"
   ]
  },
  {
   "cell_type": "code",
   "execution_count": 31,
   "metadata": {
    "collapsed": false
   },
   "outputs": [
    {
     "name": "stdout",
     "output_type": "stream",
     "text": [
      "0\n",
      "1\n",
      "2\n",
      "3\n",
      "4\n"
     ]
    }
   ],
   "source": [
    "for i in [0,1,2,3,4]:\n",
    "        print(i)"
   ]
  },
  {
   "cell_type": "code",
   "execution_count": 35,
   "metadata": {
    "collapsed": false
   },
   "outputs": [
    {
     "data": {
      "text/plain": [
       "'<!DOCTYPE html>\\n<html>\\n\\t<head>\\n\\t\\t<meta charset=\"utf-8\">\\n\\t\\t\\n\\n<meta name=\"viewport\" content=\"width=device-width, initial-scale=1\">\\n\\n<title>看板 Food 文章列表 - 批踢踢實業坊</title>\\n\\n<link rel=\"stylesheet\" type=\"text/css\" href=\"//images.ptt.cc/bbs/v2.22/bbs-common.css\">\\n<link rel=\"stylesheet\" type=\"text/css\" href=\"//images.ptt.cc/bbs/v2.22/bbs-base.css\" media=\"screen\">\\n<link rel=\"stylesheet\" type=\"text/css\" href=\"//images.ptt.cc/bbs/v2.22/bbs-custom.css\">\\n<link rel=\"stylesheet\" type=\"text/css\" href=\"//images.ptt.cc/bbs/v2.22/pushstream.css\" media=\"screen\">\\n<link rel=\"stylesheet\" type=\"text/css\" href=\"//images.ptt.cc/bbs/v2.22/bbs-print.css\" media=\"print\">\\n\\n\\n\\n\\n\\t</head>\\n    <body>\\n\\t\\t\\n<div id=\"topbar-container\">\\n\\t<div id=\"topbar\" class=\"bbs-content\">\\n\\t\\t<a id=\"logo\" href=\"/\">批踢踢實業坊</a>\\n\\t\\t<span>&rsaquo;</span>\\n\\t\\t<a class=\"board\" href=\"/bbs/Food/index.html\"><span class=\"board-label\">看板 </span>Food</a>\\n\\t\\t<a class=\"right small\" href=\"/about.html\">關於我們</a>\\n\\t\\t<a class=\"right small\" href=\"/contact.html\">聯絡資訊</a>\\n\\t</div>\\n</div>\\n\\n<div id=\"main-container\">\\n\\t<div id=\"action-bar-container\">\\n\\t\\t<div class=\"action-bar\">\\n\\t\\t\\t<div class=\"btn-group btn-group-dir\">\\n\\t\\t\\t\\t<a class=\"btn selected\" href=\"/bbs/Food/index.html\">看板</a>\\n\\t\\t\\t\\t<a class=\"btn\" href=\"/man/Food/index.html\">精華區</a>\\n\\t\\t\\t</div>\\n\\t\\t\\t<div class=\"btn-group btn-group-paging\">\\n\\t\\t\\t\\t<a class=\"btn wide\" href=\"/bbs/Food/index1.html\">最舊</a>\\n\\t\\t\\t\\t<a class=\"btn wide\" href=\"/bbs/Food/index6531.html\">&lsaquo; 上頁</a>\\n\\t\\t\\t\\t<a class=\"btn wide disabled\">下頁 &rsaquo;</a>\\n\\t\\t\\t\\t<a class=\"btn wide\" href=\"/bbs/Food/index.html\">最新</a>\\n\\t\\t\\t</div>\\n\\t\\t</div>\\n\\t</div>\\n\\n\\t<div class=\"r-list-container action-bar-margin bbs-screen\">\\n\\t\\t\\n\\t\\t\\n            \\n        \\n        \\n\\t\\t<div class=\"r-ent\">\\n\\t\\t\\t<div class=\"nrec\"></div>\\n\\t\\t\\t<div class=\"mark\"></div>\\n\\t\\t\\t<div class=\"title\">\\n\\t\\t\\t\\n\\t\\t\\t\\t<a href=\"/bbs/Food/M.1520351857.A.EB5.html\">[食記] 台北信義－北村豆腐家(統一時代台北店)</a>\\n\\t\\t\\t\\n\\t\\t\\t</div>\\n\\t\\t\\t<div class=\"meta\">\\n\\t\\t\\t\\t<div class=\"date\"> 3/06</div>\\n\\t\\t\\t\\t<div class=\"author\">bluezting</div>\\n\\t\\t\\t</div>\\n\\t\\t</div>\\n\\n\\t\\t\\n            \\n        \\n        \\n\\t\\t<div class=\"r-ent\">\\n\\t\\t\\t<div class=\"nrec\"><span class=\"hl f2\">4</span></div>\\n\\t\\t\\t<div class=\"mark\"></div>\\n\\t\\t\\t<div class=\"title\">\\n\\t\\t\\t\\n\\t\\t\\t\\t<a href=\"/bbs/Food/M.1520352761.A.28B.html\">[食記] 台北 嘉賓閣--遇見柯文哲署名到此一遊</a>\\n\\t\\t\\t\\n\\t\\t\\t</div>\\n\\t\\t\\t<div class=\"meta\">\\n\\t\\t\\t\\t<div class=\"date\"> 3/07</div>\\n\\t\\t\\t\\t<div class=\"author\">geofrania</div>\\n\\t\\t\\t</div>\\n\\t\\t</div>\\n\\n\\t\\t\\n            \\n        \\n        \\n\\t\\t<div class=\"r-ent\">\\n\\t\\t\\t<div class=\"nrec\"></div>\\n\\t\\t\\t<div class=\"mark\"></div>\\n\\t\\t\\t<div class=\"title\">\\n\\t\\t\\t\\n\\t\\t\\t\\t<a href=\"/bbs/Food/M.1520354864.A.EED.html\">[食記] 新北 鶯歌老街- 超人氣臭豆腐</a>\\n\\t\\t\\t\\n\\t\\t\\t</div>\\n\\t\\t\\t<div class=\"meta\">\\n\\t\\t\\t\\t<div class=\"date\"> 3/07</div>\\n\\t\\t\\t\\t<div class=\"author\">liufrank21</div>\\n\\t\\t\\t</div>\\n\\t\\t</div>\\n\\n\\t\\t\\n            \\n        \\n        \\n\\t\\t<div class=\"r-ent\">\\n\\t\\t\\t<div class=\"nrec\"></div>\\n\\t\\t\\t<div class=\"mark\"></div>\\n\\t\\t\\t<div class=\"title\">\\n\\t\\t\\t\\n\\t\\t\\t\\t<a href=\"/bbs/Food/M.1520355467.A.17A.html\">[食記] 台北肉大人-近期吃到服務最好的餐廳</a>\\n\\t\\t\\t\\n\\t\\t\\t</div>\\n\\t\\t\\t<div class=\"meta\">\\n\\t\\t\\t\\t<div class=\"date\"> 3/07</div>\\n\\t\\t\\t\\t<div class=\"author\">ABASK</div>\\n\\t\\t\\t</div>\\n\\t\\t</div>\\n\\n\\t\\t\\n            \\n        \\n        \\n\\t\\t<div class=\"r-ent\">\\n\\t\\t\\t<div class=\"nrec\"></div>\\n\\t\\t\\t<div class=\"mark\"></div>\\n\\t\\t\\t<div class=\"title\">\\n\\t\\t\\t\\n\\t\\t\\t\\t<a href=\"/bbs/Food/M.1520378451.A.50D.html\">[食記] 宜蘭 龘烤肉風味(龍龍龍烤肉風味)</a>\\n\\t\\t\\t\\n\\t\\t\\t</div>\\n\\t\\t\\t<div class=\"meta\">\\n\\t\\t\\t\\t<div class=\"date\"> 3/07</div>\\n\\t\\t\\t\\t<div class=\"author\">leafphoto</div>\\n\\t\\t\\t</div>\\n\\t\\t</div>\\n\\n\\t\\t\\n            \\n        \\n        \\n\\t\\t<div class=\"r-ent\">\\n\\t\\t\\t<div class=\"nrec\"></div>\\n\\t\\t\\t<div class=\"mark\"></div>\\n\\t\\t\\t<div class=\"title\">\\n\\t\\t\\t\\n\\t\\t\\t\\t<a href=\"/bbs/Food/M.1520387826.A.4F3.html\">[食記] 台北內湖 六丁目拉麵</a>\\n\\t\\t\\t\\n\\t\\t\\t</div>\\n\\t\\t\\t<div class=\"meta\">\\n\\t\\t\\t\\t<div class=\"date\"> 3/07</div>\\n\\t\\t\\t\\t<div class=\"author\">shangyikuo</div>\\n\\t\\t\\t</div>\\n\\t\\t</div>\\n\\n\\t\\t\\n            \\n        \\n        \\n\\t\\t<div class=\"r-ent\">\\n\\t\\t\\t<div class=\"nrec\"></div>\\n\\t\\t\\t<div class=\"mark\"></div>\\n\\t\\t\\t<div class=\"title\">\\n\\t\\t\\t\\n\\t\\t\\t\\t<a href=\"/bbs/Food/M.1520389179.A.19F.html\">[食記] 屏東市 南興雞腿飯</a>\\n\\t\\t\\t\\n\\t\\t\\t</div>\\n\\t\\t\\t<div class=\"meta\">\\n\\t\\t\\t\\t<div class=\"date\"> 3/07</div>\\n\\t\\t\\t\\t<div class=\"author\">sacy11230</div>\\n\\t\\t\\t</div>\\n\\t\\t</div>\\n\\n\\t\\t\\n            \\n        \\n        \\n\\t\\t<div class=\"r-ent\">\\n\\t\\t\\t<div class=\"nrec\"></div>\\n\\t\\t\\t<div class=\"mark\"></div>\\n\\t\\t\\t<div class=\"title\">\\n\\t\\t\\t\\n\\t\\t\\t\\t<a href=\"/bbs/Food/M.1520389244.A.DC3.html\">[食記] 高雄 愛食鍋麻辣鴛鴦鍋推薦</a>\\n\\t\\t\\t\\n\\t\\t\\t</div>\\n\\t\\t\\t<div class=\"meta\">\\n\\t\\t\\t\\t<div class=\"date\"> 3/07</div>\\n\\t\\t\\t\\t<div class=\"author\">MYLIUUU</div>\\n\\t\\t\\t</div>\\n\\t\\t</div>\\n\\n\\t\\t\\n            \\n        \\n        \\n\\t\\t<div class=\"r-ent\">\\n\\t\\t\\t<div class=\"nrec\"></div>\\n\\t\\t\\t<div class=\"mark\"></div>\\n\\t\\t\\t<div class=\"title\">\\n\\t\\t\\t\\n\\t\\t\\t\\t<a href=\"/bbs/Food/M.1520389633.A.A46.html\">[請益] 有沒有推薦的印度餐廳?</a>\\n\\t\\t\\t\\n\\t\\t\\t</div>\\n\\t\\t\\t<div class=\"meta\">\\n\\t\\t\\t\\t<div class=\"date\"> 3/07</div>\\n\\t\\t\\t\\t<div class=\"author\">stupidsnail2</div>\\n\\t\\t\\t</div>\\n\\t\\t</div>\\n\\n\\t\\t\\n        \\n        <div class=\"r-list-sep\"></div>\\n            \\n                \\n        \\n        \\n\\t\\t<div class=\"r-ent\">\\n\\t\\t\\t<div class=\"nrec\"></div>\\n\\t\\t\\t<div class=\"mark\">!</div>\\n\\t\\t\\t<div class=\"title\">\\n\\t\\t\\t\\n\\t\\t\\t\\t<a href=\"/bbs/Food/M.1355673582.A.5F7.html\">[公告] Food板 板規 V3.91</a>\\n\\t\\t\\t\\n\\t\\t\\t</div>\\n\\t\\t\\t<div class=\"meta\">\\n\\t\\t\\t\\t<div class=\"date\">12/16</div>\\n\\t\\t\\t\\t<div class=\"author\">Dilbert</div>\\n\\t\\t\\t</div>\\n\\t\\t</div>\\n\\n            \\n                \\n        \\n        \\n\\t\\t<div class=\"r-ent\">\\n\\t\\t\\t<div class=\"nrec\"><span class=\"hl f3\">18</span></div>\\n\\t\\t\\t<div class=\"mark\">!</div>\\n\\t\\t\\t<div class=\"title\">\\n\\t\\t\\t\\n\\t\\t\\t\\t<a href=\"/bbs/Food/M.1190944426.A.E6C.html\">[公告] 發文請在標題加上地區及提供地址電話。^^</a>\\n\\t\\t\\t\\n\\t\\t\\t</div>\\n\\t\\t\\t<div class=\"meta\">\\n\\t\\t\\t\\t<div class=\"date\"> 9/28</div>\\n\\t\\t\\t\\t<div class=\"author\">bluefish</div>\\n\\t\\t\\t</div>\\n\\t\\t</div>\\n\\n            \\n                \\n        \\n        \\n\\t\\t<div class=\"r-ent\">\\n\\t\\t\\t<div class=\"nrec\"></div>\\n\\t\\t\\t<div class=\"mark\">!</div>\\n\\t\\t\\t<div class=\"title\">\\n\\t\\t\\t\\n\\t\\t\\t\\t<a href=\"/bbs/Food/M.1128132666.A.0FD.html\">[公告] 文章被刪除者請洽精華區的資源回收桶</a>\\n\\t\\t\\t\\n\\t\\t\\t</div>\\n\\t\\t\\t<div class=\"meta\">\\n\\t\\t\\t\\t<div class=\"date\">10/01</div>\\n\\t\\t\\t\\t<div class=\"author\">Dilbert</div>\\n\\t\\t\\t</div>\\n\\t\\t</div>\\n\\n            \\n                \\n        \\n        \\n\\t\\t<div class=\"r-ent\">\\n\\t\\t\\t<div class=\"nrec\"><span class=\"hl f2\">4</span></div>\\n\\t\\t\\t<div class=\"mark\">!</div>\\n\\t\\t\\t<div class=\"title\">\\n\\t\\t\\t\\n\\t\\t\\t\\t<a href=\"/bbs/Food/M.1496532469.A.C36.html\">[公告] 新增板規22：發文禁附延伸閱讀連結</a>\\n\\t\\t\\t\\n\\t\\t\\t</div>\\n\\t\\t\\t<div class=\"meta\">\\n\\t\\t\\t\\t<div class=\"date\"> 6/04</div>\\n\\t\\t\\t\\t<div class=\"author\">Dilbert</div>\\n\\t\\t\\t</div>\\n\\t\\t</div>\\n\\n            \\n        \\n\\t</div>\\n\\n    \\n</div>\\n\\n\\t\\t\\n\\n<script>\\n  (function(i,s,o,g,r,a,m){i[\\'GoogleAnalyticsObject\\']=r;i[r]=i[r]||function(){\\n  (i[r].q=i[r].q||[]).push(arguments)},i[r].l=1*new Date();a=s.createElement(o),\\n  m=s.getElementsByTagName(o)[0];a.async=1;a.src=g;m.parentNode.insertBefore(a,m)\\n  })(window,document,\\'script\\',\\'https://www.google-analytics.com/analytics.js\\',\\'ga\\');\\n\\n  ga(\\'create\\', \\'UA-32365737-1\\', {\\n    cookieDomain: \\'ptt.cc\\',\\n    legacyCookieDomain: \\'ptt.cc\\'\\n  });\\n  ga(\\'send\\', \\'pageview\\');\\n</script>\\n\\n\\n\\t\\t\\n<script src=\"//ajax.googleapis.com/ajax/libs/jquery/2.1.1/jquery.min.js\"></script>\\n<script src=\"//images.ptt.cc/bbs/v2.22/bbs.js\"></script>\\n\\n    </body>\\n</html>\\n'"
      ]
     },
     "execution_count": 35,
     "metadata": {},
     "output_type": "execute_result"
    }
   ],
   "source": [
    "import requests\n",
    "from bs4 import BeautifulSoup\n",
    "res= requests.get('https://www.ptt.cc/bbs/Food/index.html')\n",
    "res.text"
   ]
  },
  {
   "cell_type": "code",
   "execution_count": 45,
   "metadata": {
    "collapsed": false
   },
   "outputs": [
    {
     "ename": "FeatureNotFound",
     "evalue": "Couldn't find a tree builder with the features you requested: lxml. Do you need to install a parser library?",
     "output_type": "error",
     "traceback": [
      "\u001b[1;31m---------------------------------------------------------------------------\u001b[0m",
      "\u001b[1;31mFeatureNotFound\u001b[0m                           Traceback (most recent call last)",
      "\u001b[1;32m<ipython-input-45-f6484f1f0258>\u001b[0m in \u001b[0;36m<module>\u001b[1;34m()\u001b[0m\n\u001b[0;32m     11\u001b[0m \u001b[0mres\u001b[0m\u001b[1;33m=\u001b[0m \u001b[0mget_html\u001b[0m\u001b[1;33m(\u001b[0m\u001b[1;34m'https://www.ptt.cc/bbs/Food/index.html'\u001b[0m\u001b[1;33m)\u001b[0m\u001b[1;33m\u001b[0m\u001b[0m\n\u001b[0;32m     12\u001b[0m \u001b[0mres\u001b[0m\u001b[1;33m\u001b[0m\u001b[0m\n\u001b[1;32m---> 13\u001b[1;33m \u001b[0msoup\u001b[0m \u001b[1;33m=\u001b[0m \u001b[0mBeautifulSoup\u001b[0m\u001b[1;33m(\u001b[0m\u001b[0mres\u001b[0m\u001b[1;33m,\u001b[0m\u001b[1;34m'lxml'\u001b[0m\u001b[1;33m)\u001b[0m\u001b[1;33m\u001b[0m\u001b[0m\n\u001b[0m\u001b[0;32m     14\u001b[0m \u001b[0mprint\u001b[0m\u001b[1;33m(\u001b[0m\u001b[0msoup\u001b[0m\u001b[1;33m.\u001b[0m\u001b[0mprettify\u001b[0m\u001b[1;33m(\u001b[0m\u001b[1;33m)\u001b[0m\u001b[1;33m)\u001b[0m\u001b[1;33m\u001b[0m\u001b[0m\n",
      "\u001b[1;32md:\\users\\eric_jhang\\appdata\\local\\programs\\python\\python35\\lib\\site-packages\\bs4\\__init__.py\u001b[0m in \u001b[0;36m__init__\u001b[1;34m(self, markup, features, builder, parse_only, from_encoding, exclude_encodings, **kwargs)\u001b[0m\n\u001b[0;32m    163\u001b[0m                     \u001b[1;34m\"Couldn't find a tree builder with the features you \"\u001b[0m\u001b[1;33m\u001b[0m\u001b[0m\n\u001b[0;32m    164\u001b[0m                     \u001b[1;34m\"requested: %s. Do you need to install a parser library?\"\u001b[0m\u001b[1;33m\u001b[0m\u001b[0m\n\u001b[1;32m--> 165\u001b[1;33m                     % \",\".join(features))\n\u001b[0m\u001b[0;32m    166\u001b[0m             \u001b[0mbuilder\u001b[0m \u001b[1;33m=\u001b[0m \u001b[0mbuilder_class\u001b[0m\u001b[1;33m(\u001b[0m\u001b[1;33m)\u001b[0m\u001b[1;33m\u001b[0m\u001b[0m\n\u001b[0;32m    167\u001b[0m             if not (original_features == builder.NAME or\n",
      "\u001b[1;31mFeatureNotFound\u001b[0m: Couldn't find a tree builder with the features you requested: lxml. Do you need to install a parser library?"
     ]
    }
   ],
   "source": [
    "import requests\n",
    "from bs4 import BeautifulSoup\n",
    "def get_html(url):\n",
    "    try:\n",
    "        r = requests.get(url, timeout=30)\n",
    "        r.raise_for_status()\n",
    "        r.encoding = r.apparent_encoding\n",
    "        return r.text\n",
    "    except:\n",
    "        return \" ERROR \"\n",
    "res= get_html('https://www.ptt.cc/bbs/Food/index.html')\n",
    "res    \n",
    "soup = BeautifulSoup(res,'lxml')\n",
    "print(soup.prettify())"
   ]
  },
  {
   "cell_type": "code",
   "execution_count": null,
   "metadata": {
    "collapsed": true
   },
   "outputs": [],
   "source": []
  },
  {
   "cell_type": "code",
   "execution_count": null,
   "metadata": {
    "collapsed": true
   },
   "outputs": [],
   "source": []
  },
  {
   "cell_type": "code",
   "execution_count": 49,
   "metadata": {
    "collapsed": false
   },
   "outputs": [
    {
     "ename": "FeatureNotFound",
     "evalue": "Couldn't find a tree builder with the features you requested: lxml. Do you need to install a parser library?",
     "output_type": "error",
     "traceback": [
      "\u001b[1;31m---------------------------------------------------------------------------\u001b[0m",
      "\u001b[1;31mFeatureNotFound\u001b[0m                           Traceback (most recent call last)",
      "\u001b[1;32m<ipython-input-49-4ddee19e774a>\u001b[0m in \u001b[0;36m<module>\u001b[1;34m()\u001b[0m\n\u001b[0;32m     11\u001b[0m \u001b[0mres\u001b[0m\u001b[1;33m=\u001b[0m \u001b[0mget_html\u001b[0m\u001b[1;33m(\u001b[0m\u001b[1;34m'https://www.ptt.cc/bbs/Food/index.html'\u001b[0m\u001b[1;33m)\u001b[0m\u001b[1;33m\u001b[0m\u001b[0m\n\u001b[0;32m     12\u001b[0m \u001b[0mres\u001b[0m\u001b[1;33m\u001b[0m\u001b[0m\n\u001b[1;32m---> 13\u001b[1;33m \u001b[0msoup\u001b[0m \u001b[1;33m=\u001b[0m \u001b[0mBeautifulSoup\u001b[0m\u001b[1;33m(\u001b[0m\u001b[0mres\u001b[0m\u001b[1;33m,\u001b[0m\u001b[1;34m\"lxml\"\u001b[0m\u001b[1;33m)\u001b[0m\u001b[1;33m\u001b[0m\u001b[0m\n\u001b[0m\u001b[0;32m     14\u001b[0m \u001b[0mprint\u001b[0m\u001b[1;33m(\u001b[0m\u001b[0msoup\u001b[0m\u001b[1;33m.\u001b[0m\u001b[0mprettify\u001b[0m\u001b[1;33m(\u001b[0m\u001b[1;33m)\u001b[0m\u001b[1;33m)\u001b[0m\u001b[1;33m\u001b[0m\u001b[0m\n",
      "\u001b[1;32md:\\users\\eric_jhang\\appdata\\local\\programs\\python\\python35\\lib\\site-packages\\bs4\\__init__.py\u001b[0m in \u001b[0;36m__init__\u001b[1;34m(self, markup, features, builder, parse_only, from_encoding, exclude_encodings, **kwargs)\u001b[0m\n\u001b[0;32m    163\u001b[0m                     \u001b[1;34m\"Couldn't find a tree builder with the features you \"\u001b[0m\u001b[1;33m\u001b[0m\u001b[0m\n\u001b[0;32m    164\u001b[0m                     \u001b[1;34m\"requested: %s. Do you need to install a parser library?\"\u001b[0m\u001b[1;33m\u001b[0m\u001b[0m\n\u001b[1;32m--> 165\u001b[1;33m                     % \",\".join(features))\n\u001b[0m\u001b[0;32m    166\u001b[0m             \u001b[0mbuilder\u001b[0m \u001b[1;33m=\u001b[0m \u001b[0mbuilder_class\u001b[0m\u001b[1;33m(\u001b[0m\u001b[1;33m)\u001b[0m\u001b[1;33m\u001b[0m\u001b[0m\n\u001b[0;32m    167\u001b[0m             if not (original_features == builder.NAME or\n",
      "\u001b[1;31mFeatureNotFound\u001b[0m: Couldn't find a tree builder with the features you requested: lxml. Do you need to install a parser library?"
     ]
    }
   ],
   "source": [
    "import requests\n",
    "from bs4 import BeautifulSoup\n",
    "def get_html(url):\n",
    "    try:\n",
    "        r = requests.get(url, timeout=30)\n",
    "        r.raise_for_status()\n",
    "        r.encoding = r.apparent_encoding\n",
    "        return r.text\n",
    "    except:\n",
    "        return \" ERROR \"\n",
    "res= get_html('https://www.ptt.cc/bbs/Food/index.html')\n",
    "res    \n",
    "soup = BeautifulSoup(res,\"lxml\")\n",
    "print(soup.prettify())"
   ]
  },
  {
   "cell_type": "code",
   "execution_count": null,
   "metadata": {
    "collapsed": true
   },
   "outputs": [],
   "source": []
  }
 ],
 "metadata": {
  "kernelspec": {
   "display_name": "Python 3",
   "language": "python",
   "name": "python3"
  },
  "language_info": {
   "codemirror_mode": {
    "name": "ipython",
    "version": 3
   },
   "file_extension": ".py",
   "mimetype": "text/x-python",
   "name": "python",
   "nbconvert_exporter": "python",
   "pygments_lexer": "ipython3",
   "version": "3.5.0"
  }
 },
 "nbformat": 4,
 "nbformat_minor": 2
}
